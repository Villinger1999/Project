{
 "cells": [
  {
   "cell_type": "code",
   "execution_count": 24,
   "metadata": {},
   "outputs": [],
   "source": [
    "from ML_prepare import *\n",
    "from Kfold_CV import *"
   ]
  },
  {
   "cell_type": "code",
   "execution_count": 25,
   "metadata": {},
   "outputs": [
    {
     "data": {
      "text/plain": [
       "array([ 9, 10, 11, 12, 13, 14])"
      ]
     },
     "execution_count": 25,
     "metadata": {},
     "output_type": "execute_result"
    }
   ],
   "source": [
    "df_cohorts_2 = df[df['Cohort'] == 'D1_2']\n",
    "df_cohorts_2['Individual'].unique()"
   ]
  },
  {
   "cell_type": "code",
   "execution_count": 26,
   "metadata": {},
   "outputs": [
    {
     "data": {
      "text/plain": [
       "array([1, 2, 3, 4, 5, 6, 7, 8])"
      ]
     },
     "execution_count": 26,
     "metadata": {},
     "output_type": "execute_result"
    }
   ],
   "source": [
    "df_cohorts_1 = df[df['Cohort'] == 'D1_1']\n",
    "df_cohorts_1['Individual'].unique()"
   ]
  },
  {
   "cell_type": "code",
   "execution_count": 27,
   "metadata": {},
   "outputs": [
    {
     "data": {
      "text/html": [
       "<div>\n",
       "<style scoped>\n",
       "    .dataframe tbody tr th:only-of-type {\n",
       "        vertical-align: middle;\n",
       "    }\n",
       "\n",
       "    .dataframe tbody tr th {\n",
       "        vertical-align: top;\n",
       "    }\n",
       "\n",
       "    .dataframe thead th {\n",
       "        text-align: right;\n",
       "    }\n",
       "</style>\n",
       "<table border=\"1\" class=\"dataframe\">\n",
       "  <thead>\n",
       "    <tr style=\"text-align: right;\">\n",
       "      <th></th>\n",
       "      <th>HR_Max</th>\n",
       "    </tr>\n",
       "  </thead>\n",
       "  <tbody>\n",
       "    <tr>\n",
       "      <th>96</th>\n",
       "      <td>-0.528976</td>\n",
       "    </tr>\n",
       "    <tr>\n",
       "      <th>97</th>\n",
       "      <td>1.242915</td>\n",
       "    </tr>\n",
       "    <tr>\n",
       "      <th>98</th>\n",
       "      <td>-1.009076</td>\n",
       "    </tr>\n",
       "    <tr>\n",
       "      <th>99</th>\n",
       "      <td>-0.828351</td>\n",
       "    </tr>\n",
       "    <tr>\n",
       "      <th>100</th>\n",
       "      <td>-0.048090</td>\n",
       "    </tr>\n",
       "    <tr>\n",
       "      <th>...</th>\n",
       "      <td>...</td>\n",
       "    </tr>\n",
       "    <tr>\n",
       "      <th>163</th>\n",
       "      <td>0.351076</td>\n",
       "    </tr>\n",
       "    <tr>\n",
       "      <th>164</th>\n",
       "      <td>-1.172515</td>\n",
       "    </tr>\n",
       "    <tr>\n",
       "      <th>165</th>\n",
       "      <td>-1.291165</td>\n",
       "    </tr>\n",
       "    <tr>\n",
       "      <th>166</th>\n",
       "      <td>-1.020863</td>\n",
       "    </tr>\n",
       "    <tr>\n",
       "      <th>167</th>\n",
       "      <td>1.985460</td>\n",
       "    </tr>\n",
       "  </tbody>\n",
       "</table>\n",
       "<p>72 rows × 1 columns</p>\n",
       "</div>"
      ],
      "text/plain": [
       "       HR_Max\n",
       "96  -0.528976\n",
       "97   1.242915\n",
       "98  -1.009076\n",
       "99  -0.828351\n",
       "100 -0.048090\n",
       "..        ...\n",
       "163  0.351076\n",
       "164 -1.172515\n",
       "165 -1.291165\n",
       "166 -1.020863\n",
       "167  1.985460\n",
       "\n",
       "[72 rows x 1 columns]"
      ]
     },
     "execution_count": 27,
     "metadata": {},
     "output_type": "execute_result"
    }
   ],
   "source": [
    "df_cohorts_2.iloc[:, 4:5]"
   ]
  },
  {
   "cell_type": "code",
   "execution_count": 28,
   "metadata": {},
   "outputs": [
    {
     "data": {
      "text/plain": [
       "96     2\n",
       "97     5\n",
       "98     0\n",
       "99     1\n",
       "100    6\n",
       "      ..\n",
       "163    8\n",
       "164    0\n",
       "165    1\n",
       "166    4\n",
       "167    0\n",
       "Name: Frustrated, Length: 72, dtype: int64"
      ]
     },
     "execution_count": 28,
     "metadata": {},
     "output_type": "execute_result"
    }
   ],
   "source": [
    "df_cohorts_2['Frustrated']"
   ]
  },
  {
   "cell_type": "code",
   "execution_count": 29,
   "metadata": {},
   "outputs": [
    {
     "data": {
      "text/plain": [
       "array([2, 5, 0, 1, 6, 1, 4, 8, 2, 0, 2, 0, 0, 1, 0, 0, 2, 1, 0, 5, 0, 0,\n",
       "       1, 0, 0, 3, 1, 1, 2, 1, 1, 3, 0, 2, 4, 0, 1, 4, 0, 1, 5, 1, 1, 8,\n",
       "       1, 0, 1, 0, 1, 1, 1, 1, 1, 1, 3, 2, 1, 1, 1, 1, 0, 4, 0, 1, 6, 0,\n",
       "       4, 8, 0, 1, 4, 0])"
      ]
     },
     "execution_count": 29,
     "metadata": {},
     "output_type": "execute_result"
    }
   ],
   "source": [
    "df_cohorts_2['Frustrated'].to_numpy()"
   ]
  },
  {
   "cell_type": "code",
   "execution_count": 78,
   "metadata": {},
   "outputs": [],
   "source": [
    "cohort_1_log = log_model_f.score(df_cohorts_1.iloc[:, 4:5], df_cohorts_1['Frustrated'])\n",
    "cohort_2_log = log_model_f.score(df_cohorts_2.iloc[:, 4:5], df_cohorts_2['Frustrated'])\n",
    "cohort_1_baseline = base_model_f.score(df_cohorts_1.iloc[:, 4:5], df_cohorts_1['Frustrated'])\n",
    "cohort_2_baseline = base_model_f.score(df_cohorts_2.iloc[:, 4:5], df_cohorts_2['Frustrated'])\n",
    "cohort_1_decision = dt_model_f.score(df_cohorts_1.iloc[:, 4:5], df_cohorts_1['Frustrated'])\n",
    "cohort_2_decision = dt_model_f.score(df_cohorts_2.iloc[:, 4:5], df_cohorts_2['Frustrated'])"
   ]
  },
  {
   "cell_type": "code",
   "execution_count": 31,
   "metadata": {},
   "outputs": [
    {
     "data": {
      "text/plain": [
       "0.19791666666666666"
      ]
     },
     "metadata": {},
     "output_type": "display_data"
    },
    {
     "data": {
      "text/plain": [
       "0.3333333333333333"
      ]
     },
     "metadata": {},
     "output_type": "display_data"
    }
   ],
   "source": [
    "display(cohort1, cohort2)"
   ]
  },
  {
   "cell_type": "code",
   "execution_count": 79,
   "metadata": {},
   "outputs": [],
   "source": [
    "pred_cohort_1_log = log_model_f.predict(df_cohorts_1.iloc[:, 4:5])\n",
    "pred_cohort_2_log = log_model_f.predict(df_cohorts_2.iloc[:, 4:5])\n",
    "pred_cohort_1_baseline = base_model_f.predict(df_cohorts_1.iloc[:, 4:5])\n",
    "pred_cohort_2_baseline = base_model_f.predict(df_cohorts_2.iloc[:, 4:5])\n",
    "pred_cohort_1_decision = dt_model_f.predict(df_cohorts_1.iloc[:, 4:5])\n",
    "pred_cohort_2_decision = dt_model_f.predict(df_cohorts_2.iloc[:, 4:5])\n",
    "\n",
    "\n",
    "\n",
    "pred_cohort = log_model_f.predict(df.iloc[:, 4:5])"
   ]
  },
  {
   "cell_type": "code",
   "execution_count": 33,
   "metadata": {},
   "outputs": [
    {
     "data": {
      "text/html": [
       "<div>\n",
       "<style scoped>\n",
       "    .dataframe tbody tr th:only-of-type {\n",
       "        vertical-align: middle;\n",
       "    }\n",
       "\n",
       "    .dataframe tbody tr th {\n",
       "        vertical-align: top;\n",
       "    }\n",
       "\n",
       "    .dataframe thead th {\n",
       "        text-align: right;\n",
       "    }\n",
       "</style>\n",
       "<table border=\"1\" class=\"dataframe\">\n",
       "  <thead>\n",
       "    <tr style=\"text-align: right;\">\n",
       "      <th>Frustrated</th>\n",
       "      <th>0</th>\n",
       "      <th>1</th>\n",
       "      <th>2</th>\n",
       "      <th>3</th>\n",
       "      <th>4</th>\n",
       "      <th>5</th>\n",
       "      <th>6</th>\n",
       "      <th>7</th>\n",
       "      <th>8</th>\n",
       "    </tr>\n",
       "    <tr>\n",
       "      <th>Cohort</th>\n",
       "      <th></th>\n",
       "      <th></th>\n",
       "      <th></th>\n",
       "      <th></th>\n",
       "      <th></th>\n",
       "      <th></th>\n",
       "      <th></th>\n",
       "      <th></th>\n",
       "      <th></th>\n",
       "    </tr>\n",
       "  </thead>\n",
       "  <tbody>\n",
       "    <tr>\n",
       "      <th>D1_1</th>\n",
       "      <td>8</td>\n",
       "      <td>18</td>\n",
       "      <td>24</td>\n",
       "      <td>13</td>\n",
       "      <td>17</td>\n",
       "      <td>11</td>\n",
       "      <td>3</td>\n",
       "      <td>2</td>\n",
       "      <td>0</td>\n",
       "    </tr>\n",
       "    <tr>\n",
       "      <th>D1_2</th>\n",
       "      <td>21</td>\n",
       "      <td>27</td>\n",
       "      <td>7</td>\n",
       "      <td>3</td>\n",
       "      <td>6</td>\n",
       "      <td>3</td>\n",
       "      <td>2</td>\n",
       "      <td>0</td>\n",
       "      <td>3</td>\n",
       "    </tr>\n",
       "  </tbody>\n",
       "</table>\n",
       "</div>"
      ],
      "text/plain": [
       "Frustrated   0   1   2   3   4   5  6  7  8\n",
       "Cohort                                     \n",
       "D1_1         8  18  24  13  17  11  3  2  0\n",
       "D1_2        21  27   7   3   6   3  2  0  3"
      ]
     },
     "execution_count": 33,
     "metadata": {},
     "output_type": "execute_result"
    }
   ],
   "source": [
    "contingency_table = pd.crosstab(df['Cohort'], df['Frustrated'])\n",
    "contingency_table\n"
   ]
  },
  {
   "cell_type": "code",
   "execution_count": 40,
   "metadata": {},
   "outputs": [
    {
     "name": "stdout",
     "output_type": "stream",
     "text": [
      "2.7083333333333335 1.7361111111111112\n",
      "0.19791666666666666 0.3333333333333333\n"
     ]
    }
   ],
   "source": [
    "print(np.mean(df_cohorts_1['Frustrated']), np.mean(df_cohorts_2['Frustrated']))\n",
    "print(cohort1, cohort2)\n"
   ]
  },
  {
   "cell_type": "code",
   "execution_count": 43,
   "metadata": {},
   "outputs": [
    {
     "data": {
      "text/plain": [
       "(96, 72)"
      ]
     },
     "execution_count": 43,
     "metadata": {},
     "output_type": "execute_result"
    }
   ],
   "source": [
    "len(df_cohorts_1['Frustrated']), len(df_cohorts_2['Frustrated'])"
   ]
  },
  {
   "cell_type": "code",
   "execution_count": 57,
   "metadata": {},
   "outputs": [],
   "source": [
    "# Specify the number of observations to remove\n",
    "x = 24\n",
    "\n",
    "# Randomly remove x observations from the dataset\n",
    "df_removed = df_cohorts_1.sample(n=x, random_state=42)\n",
    "\n",
    "# Create a new dataset without the removed observations\n",
    "df_updated = df_cohorts_1.drop(df_removed.index)\n",
    "\n",
    "# Print the updated dataset\n",
    "df_cohorts_1_r = df_updated"
   ]
  },
  {
   "cell_type": "code",
   "execution_count": 63,
   "metadata": {},
   "outputs": [
    {
     "data": {
      "text/plain": [
       "72"
      ]
     },
     "execution_count": 63,
     "metadata": {},
     "output_type": "execute_result"
    }
   ],
   "source": [
    "import numpy as np\n",
    "\n",
    "# Specify the number of observations to remove\n",
    "x = 24\n",
    "\n",
    "# Randomly remove x observations from the array\n",
    "pred_cohort_1_r = np.random.choice(pred_cohort_1, size=len(pred_cohort_1)-x, replace=False)\n",
    "\n",
    "# Print the updated array\n",
    "len(pred_cohort_1_r)"
   ]
  },
  {
   "cell_type": "code",
   "execution_count": 64,
   "metadata": {},
   "outputs": [
    {
     "name": "stdout",
     "output_type": "stream",
     "text": [
      "Paired t-test results:\n",
      "t-statistic: 1.3492638068638843\n",
      "p-value: 0.18153935880305644\n"
     ]
    }
   ],
   "source": [
    "from scipy.stats import ttest_rel\n",
    "\n",
    "# Perform paired t-test\n",
    "t_statistic, p_value = ttest_rel(pred_cohort_1_r, pred_cohort_2)\n",
    "\n",
    "# Print the results\n",
    "print(\"Paired t-test results:\")\n",
    "print(\"t-statistic:\", t_statistic)\n",
    "print(\"p-value:\", p_value)\n",
    "\n"
   ]
  },
  {
   "cell_type": "code",
   "execution_count": 34,
   "metadata": {},
   "outputs": [
    {
     "data": {
      "text/html": [
       "<div>\n",
       "<style scoped>\n",
       "    .dataframe tbody tr th:only-of-type {\n",
       "        vertical-align: middle;\n",
       "    }\n",
       "\n",
       "    .dataframe tbody tr th {\n",
       "        vertical-align: top;\n",
       "    }\n",
       "\n",
       "    .dataframe thead tr th {\n",
       "        text-align: left;\n",
       "    }\n",
       "\n",
       "    .dataframe thead tr:last-of-type th {\n",
       "        text-align: right;\n",
       "    }\n",
       "</style>\n",
       "<table border=\"1\" class=\"dataframe\">\n",
       "  <thead>\n",
       "    <tr>\n",
       "      <th>Actual</th>\n",
       "      <th colspan=\"2\" halign=\"left\">0</th>\n",
       "      <th colspan=\"2\" halign=\"left\">1</th>\n",
       "      <th colspan=\"2\" halign=\"left\">2</th>\n",
       "      <th colspan=\"2\" halign=\"left\">3</th>\n",
       "      <th colspan=\"2\" halign=\"left\">4</th>\n",
       "      <th colspan=\"2\" halign=\"left\">5</th>\n",
       "      <th colspan=\"2\" halign=\"left\">6</th>\n",
       "      <th>7</th>\n",
       "      <th>8</th>\n",
       "    </tr>\n",
       "    <tr>\n",
       "      <th>Cohort</th>\n",
       "      <th>D1_1</th>\n",
       "      <th>D1_2</th>\n",
       "      <th>D1_1</th>\n",
       "      <th>D1_2</th>\n",
       "      <th>D1_1</th>\n",
       "      <th>D1_2</th>\n",
       "      <th>D1_1</th>\n",
       "      <th>D1_2</th>\n",
       "      <th>D1_1</th>\n",
       "      <th>D1_2</th>\n",
       "      <th>D1_1</th>\n",
       "      <th>D1_2</th>\n",
       "      <th>D1_1</th>\n",
       "      <th>D1_2</th>\n",
       "      <th>D1_1</th>\n",
       "      <th>D1_2</th>\n",
       "    </tr>\n",
       "    <tr>\n",
       "      <th>Predicted</th>\n",
       "      <th></th>\n",
       "      <th></th>\n",
       "      <th></th>\n",
       "      <th></th>\n",
       "      <th></th>\n",
       "      <th></th>\n",
       "      <th></th>\n",
       "      <th></th>\n",
       "      <th></th>\n",
       "      <th></th>\n",
       "      <th></th>\n",
       "      <th></th>\n",
       "      <th></th>\n",
       "      <th></th>\n",
       "      <th></th>\n",
       "      <th></th>\n",
       "    </tr>\n",
       "  </thead>\n",
       "  <tbody>\n",
       "    <tr>\n",
       "      <th>0</th>\n",
       "      <td>1</td>\n",
       "      <td>5</td>\n",
       "      <td>1</td>\n",
       "      <td>7</td>\n",
       "      <td>3</td>\n",
       "      <td>0</td>\n",
       "      <td>0</td>\n",
       "      <td>0</td>\n",
       "      <td>2</td>\n",
       "      <td>1</td>\n",
       "      <td>1</td>\n",
       "      <td>0</td>\n",
       "      <td>0</td>\n",
       "      <td>1</td>\n",
       "      <td>1</td>\n",
       "      <td>0</td>\n",
       "    </tr>\n",
       "    <tr>\n",
       "      <th>1</th>\n",
       "      <td>7</td>\n",
       "      <td>16</td>\n",
       "      <td>17</td>\n",
       "      <td>19</td>\n",
       "      <td>20</td>\n",
       "      <td>7</td>\n",
       "      <td>12</td>\n",
       "      <td>3</td>\n",
       "      <td>14</td>\n",
       "      <td>5</td>\n",
       "      <td>10</td>\n",
       "      <td>3</td>\n",
       "      <td>3</td>\n",
       "      <td>1</td>\n",
       "      <td>1</td>\n",
       "      <td>3</td>\n",
       "    </tr>\n",
       "    <tr>\n",
       "      <th>2</th>\n",
       "      <td>0</td>\n",
       "      <td>0</td>\n",
       "      <td>0</td>\n",
       "      <td>1</td>\n",
       "      <td>0</td>\n",
       "      <td>0</td>\n",
       "      <td>0</td>\n",
       "      <td>0</td>\n",
       "      <td>1</td>\n",
       "      <td>0</td>\n",
       "      <td>0</td>\n",
       "      <td>0</td>\n",
       "      <td>0</td>\n",
       "      <td>0</td>\n",
       "      <td>0</td>\n",
       "      <td>0</td>\n",
       "    </tr>\n",
       "    <tr>\n",
       "      <th>3</th>\n",
       "      <td>0</td>\n",
       "      <td>0</td>\n",
       "      <td>0</td>\n",
       "      <td>0</td>\n",
       "      <td>1</td>\n",
       "      <td>0</td>\n",
       "      <td>1</td>\n",
       "      <td>0</td>\n",
       "      <td>0</td>\n",
       "      <td>0</td>\n",
       "      <td>0</td>\n",
       "      <td>0</td>\n",
       "      <td>0</td>\n",
       "      <td>0</td>\n",
       "      <td>0</td>\n",
       "      <td>0</td>\n",
       "    </tr>\n",
       "  </tbody>\n",
       "</table>\n",
       "</div>"
      ],
      "text/plain": [
       "Actual       0         1         2         3         4         5         6  \\\n",
       "Cohort    D1_1 D1_2 D1_1 D1_2 D1_1 D1_2 D1_1 D1_2 D1_1 D1_2 D1_1 D1_2 D1_1   \n",
       "Predicted                                                                    \n",
       "0            1    5    1    7    3    0    0    0    2    1    1    0    0   \n",
       "1            7   16   17   19   20    7   12    3   14    5   10    3    3   \n",
       "2            0    0    0    1    0    0    0    0    1    0    0    0    0   \n",
       "3            0    0    0    0    1    0    1    0    0    0    0    0    0   \n",
       "\n",
       "Actual            7    8  \n",
       "Cohort    D1_2 D1_1 D1_2  \n",
       "Predicted                 \n",
       "0            1    1    0  \n",
       "1            1    1    3  \n",
       "2            0    0    0  \n",
       "3            0    0    0  "
      ]
     },
     "execution_count": 34,
     "metadata": {},
     "output_type": "execute_result"
    }
   ],
   "source": [
    "predictions = pd.DataFrame({'Predicted': pred_cohort, 'Actual': df['Frustrated']})\n",
    "table1 = pd.crosstab(predictions['Predicted'], df['Cohort'])\n",
    "\n",
    "table2 = pd.crosstab(predictions['Predicted'], predictions['Actual'])\n",
    "\n",
    "table3 = pd.crosstab(predictions['Predicted'], [predictions['Actual'],df['Cohort']])\n",
    "from sympy import *\n",
    "table3"
   ]
  },
  {
   "cell_type": "code",
   "execution_count": 77,
   "metadata": {},
   "outputs": [
    {
     "name": "stdout",
     "output_type": "stream",
     "text": [
      "              precision    recall  f1-score   support\n",
      "\n",
      "           0       0.11      0.12      0.12         8\n",
      "           1       0.20      0.94      0.33        18\n",
      "           2       0.00      0.00      0.00        24\n",
      "           3       0.50      0.08      0.13        13\n",
      "           4       0.00      0.00      0.00        17\n",
      "           5       0.00      0.00      0.00        11\n",
      "           6       0.00      0.00      0.00         3\n",
      "           7       0.00      0.00      0.00         2\n",
      "\n",
      "    accuracy                           0.20        96\n",
      "   macro avg       0.10      0.14      0.07        96\n",
      "weighted avg       0.11      0.20      0.09        96\n",
      "               precision    recall  f1-score   support\n",
      "\n",
      "           0       0.36      0.24      0.29        21\n",
      "           1       0.33      0.70      0.45        27\n",
      "           2       0.00      0.00      0.00         7\n",
      "           3       0.00      0.00      0.00         3\n",
      "           4       0.00      0.00      0.00         6\n",
      "           5       0.00      0.00      0.00         3\n",
      "           6       0.00      0.00      0.00         2\n",
      "           8       0.00      0.00      0.00         3\n",
      "\n",
      "    accuracy                           0.33        72\n",
      "   macro avg       0.09      0.12      0.09        72\n",
      "weighted avg       0.23      0.33      0.25        72\n",
      "\n"
     ]
    }
   ],
   "source": [
    "from sklearn.metrics import classification_report\n",
    "print(classification_report(df_cohorts_1['Frustrated'], pred_cohort_1_log, zero_division=0), classification_report(df_cohorts_2['Frustrated'], pred_cohort_2_log, zero_division=0))"
   ]
  },
  {
   "cell_type": "code",
   "execution_count": 80,
   "metadata": {},
   "outputs": [
    {
     "name": "stdout",
     "output_type": "stream",
     "text": [
      "              precision    recall  f1-score   support\n",
      "\n",
      "           0       0.00      0.00      0.00         8\n",
      "           1       0.19      1.00      0.32        18\n",
      "           2       0.00      0.00      0.00        24\n",
      "           3       0.00      0.00      0.00        13\n",
      "           4       0.00      0.00      0.00        17\n",
      "           5       0.00      0.00      0.00        11\n",
      "           6       0.00      0.00      0.00         3\n",
      "           7       0.00      0.00      0.00         2\n",
      "\n",
      "    accuracy                           0.19        96\n",
      "   macro avg       0.02      0.12      0.04        96\n",
      "weighted avg       0.04      0.19      0.06        96\n",
      "               precision    recall  f1-score   support\n",
      "\n",
      "           0       0.00      0.00      0.00        21\n",
      "           1       0.38      1.00      0.55        27\n",
      "           2       0.00      0.00      0.00         7\n",
      "           3       0.00      0.00      0.00         3\n",
      "           4       0.00      0.00      0.00         6\n",
      "           5       0.00      0.00      0.00         3\n",
      "           6       0.00      0.00      0.00         2\n",
      "           8       0.00      0.00      0.00         3\n",
      "\n",
      "    accuracy                           0.38        72\n",
      "   macro avg       0.05      0.12      0.07        72\n",
      "weighted avg       0.14      0.38      0.20        72\n",
      "\n"
     ]
    }
   ],
   "source": [
    "print(classification_report(df_cohorts_1['Frustrated'], pred_cohort_1_baseline, zero_division=0), classification_report(df_cohorts_2['Frustrated'], pred_cohort_2_baseline, zero_division=0))"
   ]
  },
  {
   "cell_type": "code",
   "execution_count": 81,
   "metadata": {},
   "outputs": [
    {
     "name": "stdout",
     "output_type": "stream",
     "text": [
      "              precision    recall  f1-score   support\n",
      "\n",
      "           0       0.46      0.75      0.57         8\n",
      "           1       0.74      0.78      0.76        18\n",
      "           2       0.62      0.83      0.71        24\n",
      "           3       0.58      0.54      0.56        13\n",
      "           4       0.73      0.47      0.57        17\n",
      "           5       0.83      0.45      0.59        11\n",
      "           6       0.67      0.67      0.67         3\n",
      "           7       0.00      0.00      0.00         2\n",
      "\n",
      "    accuracy                           0.65        96\n",
      "   macro avg       0.58      0.56      0.55        96\n",
      "weighted avg       0.66      0.65      0.63        96\n",
      "               precision    recall  f1-score   support\n",
      "\n",
      "           0       0.85      0.52      0.65        21\n",
      "           1       0.81      0.78      0.79        27\n",
      "           2       0.29      0.71      0.42         7\n",
      "           3       0.43      1.00      0.60         3\n",
      "           4       0.50      0.33      0.40         6\n",
      "           5       1.00      0.67      0.80         3\n",
      "           6       1.00      0.50      0.67         2\n",
      "           8       1.00      0.67      0.80         3\n",
      "\n",
      "    accuracy                           0.65        72\n",
      "   macro avg       0.73      0.65      0.64        72\n",
      "weighted avg       0.75      0.65      0.67        72\n",
      "\n"
     ]
    }
   ],
   "source": [
    "print(classification_report(df_cohorts_1['Frustrated'], pred_cohort_1_decision, zero_division=0), classification_report(df_cohorts_2['Frustrated'], pred_cohort_2_decision, zero_division=0))"
   ]
  }
 ],
 "metadata": {
  "kernelspec": {
   "display_name": "Python 3",
   "language": "python",
   "name": "python3"
  },
  "language_info": {
   "codemirror_mode": {
    "name": "ipython",
    "version": 3
   },
   "file_extension": ".py",
   "mimetype": "text/x-python",
   "name": "python",
   "nbconvert_exporter": "python",
   "pygments_lexer": "ipython3",
   "version": "3.11.6"
  }
 },
 "nbformat": 4,
 "nbformat_minor": 2
}
